{
 "cells": [
  {
   "cell_type": "markdown",
   "metadata": {},
   "source": [
    "# Quotes to Scrape\n",
    "\n",
    "https://quotes.toscrape.com/\n",
    "\n",
    "### Dependencies"
   ]
  },
  {
   "cell_type": "code",
   "execution_count": 1,
   "metadata": {},
   "outputs": [
    {
     "name": "stdout",
     "output_type": "stream",
     "text": [
      "/usr/local/bin/chromedriver\n"
     ]
    }
   ],
   "source": [
    "# Dependencies\n",
    "from bs4 import BeautifulSoup as soup\n",
    "from splinter import Browser\n",
    "\n",
    "# Chromedriver path (for Splinter)\n",
    "!which chromedriver"
   ]
  },
  {
   "cell_type": "markdown",
   "metadata": {},
   "source": [
    "### Start browser"
   ]
  },
  {
   "cell_type": "code",
   "execution_count": 2,
   "metadata": {},
   "outputs": [],
   "source": [
    "# Splinter browser\n",
    "splinter_kwargs = {\n",
    "    'driver_name': 'chrome', \n",
    "    'executable_path': '/usr/local/bin/chromedriver', \n",
    "    'headless': False\n",
    "}\n",
    "browser = Browser(**splinter_kwargs)"
   ]
  },
  {
   "cell_type": "markdown",
   "metadata": {},
   "source": [
    "### Visit site and get HTML"
   ]
  },
  {
   "cell_type": "code",
   "execution_count": 3,
   "metadata": {},
   "outputs": [
    {
     "data": {
      "text/plain": [
       "'Quotes to Scrape'"
      ]
     },
     "execution_count": 3,
     "metadata": {},
     "output_type": "execute_result"
    }
   ],
   "source": [
    "# Visit site\n",
    "url = 'https://quotes.toscrape.com/'\n",
    "browser.visit(url)\n",
    "\n",
    "# Parse HTML\n",
    "html = browser.html # get current page's html\n",
    "html_soup = soup(html, 'html.parser') # parse html\n",
    "html_soup.find('h1').text.strip() # page title"
   ]
  },
  {
   "cell_type": "markdown",
   "metadata": {},
   "source": [
    "### Scrape the top 10 tags"
   ]
  },
  {
   "cell_type": "code",
   "execution_count": 4,
   "metadata": {},
   "outputs": [
    {
     "name": "stdout",
     "output_type": "stream",
     "text": [
      "Top Ten tags\n",
      "------------\n",
      "Love\n",
      "Inspirational\n",
      "Life\n",
      "Humor\n",
      "Books\n",
      "Reading\n",
      "Friendship\n",
      "Friends\n",
      "Truth\n",
      "Simile\n"
     ]
    }
   ],
   "source": [
    "# Tag box\n",
    "tag_box = html_soup.find('div', class_='tags-box')\n",
    "\n",
    "# Tag title\n",
    "tag_title = tag_box.find('h2').text\n",
    "print(tag_title)\n",
    "print('------------')\n",
    "\n",
    "# Top 10 tags\n",
    "tag_top10 = tag_box.find_all('span', class_='tag-item')\n",
    "for tag in tag_top10:\n",
    "    print(tag.text.title().strip())"
   ]
  },
  {
   "cell_type": "markdown",
   "metadata": {},
   "source": [
    "### Scrape the text of the first quote on every page"
   ]
  },
  {
   "cell_type": "code",
   "execution_count": 5,
   "metadata": {},
   "outputs": [
    {
     "name": "stdout",
     "output_type": "stream",
     "text": [
      "Page 1 ----------  “The world as we have created it is a process of our thinking. It cannot be changed without changing our thinking.”\n",
      "Page 2 ----------  “This life is what you make it. No matter what, you're going to mess up sometimes, it's a universal truth. But the good part is you get to decide how you're going to mess it up. Girls will be your friends - they'll act like it anyway. But just remember, some come, some go. The ones that stay with you through everything - they're your true best friends. Don't let go of them. Also remember, sisters make the best friends in the world. As for lovers, well, they'll come and go too. And baby, I hate to say it, most of them - actually pretty much all of them are going to break your heart, but you can't give up because if you give up, you'll never find your soulmate. You'll never find that half who makes you whole and that goes for everything. Just because you fail once, doesn't mean you're gonna fail at everything. Keep trying, hold on, and always, always, always believe in yourself, because if you don't, then who will, sweetie? So keep your head high, keep your chin up, and most importantly, keep smiling, because life's a beautiful thing and there's so much to smile about.”\n",
      "Page 3 ----------  “I love you without knowing how, or when, or from where. I love you simply, without problems or pride: I love you in this way because I do not know any other way of loving but this, in which there is no I or you, so intimate that your hand upon my chest is my hand, so intimate that when I fall asleep your eyes close.”\n",
      "Page 4 ----------  “The more that you read, the more things you will know. The more that you learn, the more places you'll go.”\n",
      "Page 5 ----------  “A reader lives a thousand lives before he dies, said Jojen. The man who never reads lives only one.”\n",
      "Page 6 ----------  “There is nothing I would not do for those who are really my friends. I have no notion of loving people by halves, it is not my nature.”\n",
      "Page 7 ----------  “That's the problem with drinking, I thought, as I poured myself a drink. If something bad happens you drink in an attempt to forget; if something good happens you drink in order to celebrate; and if nothing happens you drink to make something happen.”\n",
      "Page 8 ----------  “If I had a flower for every time I thought of you...I could walk through my garden forever.”\n",
      "Page 9 ----------  “Anyone who has never made a mistake has never tried anything new.”\n",
      "Page 10 ----------  “The truth.\" Dumbledore sighed. \"It is a beautiful and terrible thing, and should therefore be treated with great caution.”\n"
     ]
    }
   ],
   "source": [
    "# Print 1st quote of every page\n",
    "while True:\n",
    "    html = soup(browser.html, 'html.parser') # parse html\n",
    "    quote = html.find('div', class_='quote').find('span', class_='text').text.strip() # quote text\n",
    "    \n",
    "    url_parts = browser.url.split('/') # parts of current page's url\n",
    "    page = url_parts[-2] if len(url_parts) > 4 else '1' # current page number\n",
    "    \n",
    "    print('Page ' + page + ' ---------- ', quote)\n",
    "    \n",
    "    try:\n",
    "        browser.links.find_by_partial_text('Next').click() # go to next page\n",
    "    except:\n",
    "        break"
   ]
  },
  {
   "cell_type": "markdown",
   "metadata": {},
   "source": [
    "### Scrape all quotes on the first page"
   ]
  },
  {
   "cell_type": "code",
   "execution_count": 6,
   "metadata": {},
   "outputs": [
    {
     "name": "stdout",
     "output_type": "stream",
     "text": [
      "“The world as we have created it is a process of our thinking. It cannot be changed without changing our thinking.”\n",
      "----- Albert Einstein\n",
      "Tags: change, deep-thoughts, thinking, world \n",
      "\n",
      "“It is our choices, Harry, that show what we truly are, far more than our abilities.”\n",
      "----- J.K. Rowling\n",
      "Tags: abilities, choices \n",
      "\n",
      "“There are only two ways to live your life. One is as though nothing is a miracle. The other is as though everything is a miracle.”\n",
      "----- Albert Einstein\n",
      "Tags: inspirational, life, live, miracle, miracles \n",
      "\n",
      "“The person, be it gentleman or lady, who has not pleasure in a good novel, must be intolerably stupid.”\n",
      "----- Jane Austen\n",
      "Tags: aliteracy, books, classic, humor \n",
      "\n",
      "“Imperfection is beauty, madness is genius and it's better to be absolutely ridiculous than absolutely boring.”\n",
      "----- Marilyn Monroe\n",
      "Tags: be-yourself, inspirational \n",
      "\n",
      "“Try not to become a man of success. Rather become a man of value.”\n",
      "----- Albert Einstein\n",
      "Tags: adulthood, success, value \n",
      "\n",
      "“It is better to be hated for what you are than to be loved for what you are not.”\n",
      "----- André Gide\n",
      "Tags: life, love \n",
      "\n",
      "“I have not failed. I've just found 10,000 ways that won't work.”\n",
      "----- Thomas A. Edison\n",
      "Tags: edison, failure, inspirational, paraphrased \n",
      "\n",
      "“A woman is like a tea bag; you never know how strong it is until it's in hot water.”\n",
      "----- Eleanor Roosevelt\n",
      "Tags: misattributed-eleanor-roosevelt \n",
      "\n",
      "“A day without sunshine is like, you know, night.”\n",
      "----- Steve Martin\n",
      "Tags: humor, obvious, simile \n",
      "\n"
     ]
    }
   ],
   "source": [
    "# Visit home page and parse html\n",
    "browser.visit(url)\n",
    "html = soup(browser.html, 'html.parser')\n",
    "\n",
    "# Quotes\n",
    "quotes = html.find_all('div', class_='quote')\n",
    "\n",
    "# Print all quotes and their corresponding author and tags\n",
    "for quote in quotes:\n",
    "    text = quote.find('span', class_='text').text.strip() # quote text\n",
    "    author = quote.find('small', class_='author').text # quote author\n",
    "    tags = quote.find('div', class_='tags').find_all('a', class_='tag') # quote tags\n",
    "    tag_list = ', '.join([tag.text for tag in tags])\n",
    "    \n",
    "    print(text)\n",
    "    print('-----', author)\n",
    "    print('Tags:', tag_list, '\\n')"
   ]
  },
  {
   "cell_type": "code",
   "execution_count": 7,
   "metadata": {},
   "outputs": [],
   "source": [
    "browser.quit()"
   ]
  },
  {
   "cell_type": "code",
   "execution_count": null,
   "metadata": {},
   "outputs": [],
   "source": []
  }
 ],
 "metadata": {
  "kernelspec": {
   "display_name": "Python [conda env:minds] *",
   "language": "python",
   "name": "conda-env-minds-py"
  },
  "language_info": {
   "codemirror_mode": {
    "name": "ipython",
    "version": 3
   },
   "file_extension": ".py",
   "mimetype": "text/x-python",
   "name": "python",
   "nbconvert_exporter": "python",
   "pygments_lexer": "ipython3",
   "version": "3.7.9"
  }
 },
 "nbformat": 4,
 "nbformat_minor": 4
}
