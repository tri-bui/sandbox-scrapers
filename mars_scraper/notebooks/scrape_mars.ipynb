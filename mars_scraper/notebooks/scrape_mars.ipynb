{
 "cells": [
  {
   "cell_type": "markdown",
   "metadata": {},
   "source": [
    "# Mars Scraper\n",
    "\n",
    "### Dependencies"
   ]
  },
  {
   "cell_type": "code",
   "execution_count": 1,
   "metadata": {},
   "outputs": [],
   "source": [
    "from splinter import Browser\n",
    "from bs4 import BeautifulSoup as Soup\n",
    "import pandas as pd"
   ]
  },
  {
   "cell_type": "markdown",
   "metadata": {},
   "source": [
    "### Set up browser"
   ]
  },
  {
   "cell_type": "code",
   "execution_count": 2,
   "metadata": {},
   "outputs": [
    {
     "name": "stdout",
     "output_type": "stream",
     "text": [
      "/usr/local/bin/chromedriver\n"
     ]
    }
   ],
   "source": [
    "# Chromedriver executable path\n",
    "! which chromedriver"
   ]
  },
  {
   "cell_type": "code",
   "execution_count": 3,
   "metadata": {},
   "outputs": [],
   "source": [
    "# Start browser\n",
    "exe_path = {'executable_path': '/usr/local/bin/chromedriver'}\n",
    "browser = Browser('chrome', **exe_path, headless=False)"
   ]
  },
  {
   "cell_type": "markdown",
   "metadata": {},
   "source": [
    "### Scrape the most recent Mars article from NASA"
   ]
  },
  {
   "cell_type": "code",
   "execution_count": 4,
   "metadata": {},
   "outputs": [
    {
     "data": {
      "text/plain": [
       "True"
      ]
     },
     "execution_count": 4,
     "metadata": {},
     "output_type": "execute_result"
    }
   ],
   "source": [
    "# Visit the news page on the NASA Mars site\n",
    "news_url = 'https://mars.nasa.gov/news/'\n",
    "browser.visit(news_url)\n",
    "\n",
    "# Optional delay for loading the page\n",
    "browser.is_element_present_by_css('ul.item_list li.slide', wait_time=1)"
   ]
  },
  {
   "cell_type": "code",
   "execution_count": 5,
   "metadata": {},
   "outputs": [
    {
     "data": {
      "text/plain": [
       "(\"NASA's Mars Helicopter Reports In \",\n",
       " 'The technology demonstration has phoned home from where it is attached to the belly of NASA’s Perseverance rover. ')"
      ]
     },
     "execution_count": 5,
     "metadata": {},
     "output_type": "execute_result"
    }
   ],
   "source": [
    "# Parse the HTML\n",
    "news_soup = Soup(browser.html, 'html.parser')\n",
    "\n",
    "# Get the first article's title and summary\n",
    "first_article = news_soup.select_one('ul.item_list li.slide')\n",
    "title = first_article.find('div', class_='content_title').get_text()\n",
    "summary = first_article.find('div', class_='article_teaser_body').get_text()\n",
    "title, summary"
   ]
  },
  {
   "cell_type": "markdown",
   "metadata": {},
   "source": [
    "### Scrape the Mars hemisphere images from USGS"
   ]
  },
  {
   "cell_type": "code",
   "execution_count": 6,
   "metadata": {},
   "outputs": [],
   "source": [
    "# Visit the Mars hemisphere search results page\n",
    "hemi_url = 'https://astrogeology.usgs.gov/search/results?q=hemisphere+enhanced&k1=target&v1=Mars'\n",
    "browser.visit(hemi_url)"
   ]
  },
  {
   "cell_type": "code",
   "execution_count": 7,
   "metadata": {},
   "outputs": [
    {
     "name": "stdout",
     "output_type": "stream",
     "text": [
      "True\n"
     ]
    }
   ],
   "source": [
    "# Visit the 1st hemisphere page\n",
    "print(browser.is_element_present_by_css('div.description a.product-item', 1))\n",
    "hemisphere = browser.links.find_by_partial_text('Hemisphere Enhanced')[0].click() # 1st page"
   ]
  },
  {
   "cell_type": "code",
   "execution_count": 8,
   "metadata": {},
   "outputs": [
    {
     "data": {
      "text/plain": [
       "('Cerberus Hemisphere',\n",
       " 'https://astropedia.astrogeology.usgs.gov/download/Mars/Viking/cerberus_enhanced.tif/full.jpg')"
      ]
     },
     "execution_count": 8,
     "metadata": {},
     "output_type": "execute_result"
    }
   ],
   "source": [
    "# Parse the HTML\n",
    "browser.is_element_present_by_css('div.downloads a', 1)\n",
    "hemi1_soup = Soup(browser.html, 'html.parser') # parse HTML\n",
    "\n",
    "# Get hemisphere name and image link\n",
    "hemi1_name = hemi1_soup.select_one('section.metadata h2.title').text.strip()[:-9]\n",
    "hemi1_img_url = hemi1_soup.select_one('div.downloads a').attrs['href']\n",
    "hemi1_name, hemi1_img_url"
   ]
  },
  {
   "cell_type": "code",
   "execution_count": 9,
   "metadata": {},
   "outputs": [
    {
     "name": "stdout",
     "output_type": "stream",
     "text": [
      "True\n"
     ]
    }
   ],
   "source": [
    "# Click back to search results\n",
    "browser.back()\n",
    "\n",
    "# Visit the 2nd hemisphere page\n",
    "print(browser.is_element_present_by_css('div.description a.product-item', 1))\n",
    "hemisphere = browser.links.find_by_partial_text('Hemisphere Enhanced')[1].click() # 2nd page"
   ]
  },
  {
   "cell_type": "code",
   "execution_count": 10,
   "metadata": {},
   "outputs": [
    {
     "data": {
      "text/plain": [
       "('Schiaparelli Hemisphere',\n",
       " 'https://astropedia.astrogeology.usgs.gov/download/Mars/Viking/schiaparelli_enhanced.tif/full.jpg')"
      ]
     },
     "execution_count": 10,
     "metadata": {},
     "output_type": "execute_result"
    }
   ],
   "source": [
    "# Parse the HTML\n",
    "browser.is_element_present_by_css('div.downloads a', 1)\n",
    "hemi2_soup = Soup(browser.html, 'html.parser') # parse HTML\n",
    "\n",
    "# Get hemisphere name and image link\n",
    "hemi2_name = hemi2_soup.select_one('section.metadata h2.title').text.strip()[:-9]\n",
    "hemi2_img_url = hemi2_soup.select_one('div.downloads a').attrs['href']\n",
    "hemi2_name, hemi2_img_url"
   ]
  },
  {
   "cell_type": "markdown",
   "metadata": {},
   "source": [
    "### Scrape the featured Mars image from NASA's JPL"
   ]
  },
  {
   "cell_type": "code",
   "execution_count": 11,
   "metadata": {},
   "outputs": [],
   "source": [
    "# # Visit the Mars images page\n",
    "# img_url = 'https://www.jpl.nasa.gov/images?search=&category=Mars'\n",
    "# browser.visit(img_url)"
   ]
  },
  {
   "cell_type": "code",
   "execution_count": 12,
   "metadata": {},
   "outputs": [],
   "source": [
    "# # Click full image button on featured image\n",
    "# print(browser.is_element_present_by_css('a#full_image', wait_time=1))\n",
    "# browser.links.find_by_partial_text('FULL IMAGE').click()\n",
    "\n",
    "# # Click more info buttom in slide show\n",
    "# print(browser.is_element_present_by_css('div.buttons a.button', wait_time=1))\n",
    "# browser.links.find_by_partial_text('more info').click()"
   ]
  },
  {
   "cell_type": "code",
   "execution_count": 13,
   "metadata": {},
   "outputs": [],
   "source": [
    "# # Parse the HTML\n",
    "# img_soup = Soup(browser.html, 'html.parser')\n",
    "\n",
    "# # Get the main image URL on the page\n",
    "# main_img_url = img_soup.select_one('figure.lede a img').get('src')\n",
    "# main_img_url = 'https://www.jpl.nasa.gov' + main_img_url\n",
    "# main_img_url"
   ]
  },
  {
   "cell_type": "markdown",
   "metadata": {},
   "source": [
    "### Scrape the most recent Mars image from NASA's JPL"
   ]
  },
  {
   "cell_type": "code",
   "execution_count": 14,
   "metadata": {},
   "outputs": [],
   "source": [
    "# Visit the Mars images page\n",
    "img_url = 'https://www.jpl.nasa.gov/images?search=&category=Mars'\n",
    "browser.visit(img_url)"
   ]
  },
  {
   "cell_type": "code",
   "execution_count": 15,
   "metadata": {},
   "outputs": [
    {
     "name": "stdout",
     "output_type": "stream",
     "text": [
      "True\n"
     ]
    }
   ],
   "source": [
    "# Click the most recent image in the search results\n",
    "print(browser.is_element_present_by_css('section a.group', wait_time=1))\n",
    "browser.links.find_by_partial_href('images/').click()"
   ]
  },
  {
   "cell_type": "code",
   "execution_count": 16,
   "metadata": {},
   "outputs": [
    {
     "data": {
      "text/plain": [
       "'https://d2pn8kiwq2w21t.cloudfront.net/images/jpegPIA23726.2e16d0ba.fill-400x400-c50.jpg'"
      ]
     },
     "execution_count": 16,
     "metadata": {},
     "output_type": "execute_result"
    }
   ],
   "source": [
    "# Parse the HTML\n",
    "img_soup = Soup(browser.html, 'html.parser')\n",
    "\n",
    "# Get the image URL\n",
    "first_img = img_soup.find('img', class_='BaseImage').attrs['src']\n",
    "first_img"
   ]
  },
  {
   "cell_type": "markdown",
   "metadata": {},
   "source": [
    "### Scrape Mars facts from space-facts"
   ]
  },
  {
   "cell_type": "code",
   "execution_count": 17,
   "metadata": {},
   "outputs": [
    {
     "data": {
      "text/html": [
       "<div>\n",
       "<style scoped>\n",
       "    .dataframe tbody tr th:only-of-type {\n",
       "        vertical-align: middle;\n",
       "    }\n",
       "\n",
       "    .dataframe tbody tr th {\n",
       "        vertical-align: top;\n",
       "    }\n",
       "\n",
       "    .dataframe thead th {\n",
       "        text-align: right;\n",
       "    }\n",
       "</style>\n",
       "<table border=\"1\" class=\"dataframe\">\n",
       "  <thead>\n",
       "    <tr style=\"text-align: right;\">\n",
       "      <th></th>\n",
       "      <th>value</th>\n",
       "    </tr>\n",
       "  </thead>\n",
       "  <tbody>\n",
       "    <tr>\n",
       "      <th>Equatorial Diameter:</th>\n",
       "      <td>6,792 km</td>\n",
       "    </tr>\n",
       "    <tr>\n",
       "      <th>Polar Diameter:</th>\n",
       "      <td>6,752 km</td>\n",
       "    </tr>\n",
       "    <tr>\n",
       "      <th>Mass:</th>\n",
       "      <td>6.39 × 10^23 kg (0.11 Earths)</td>\n",
       "    </tr>\n",
       "    <tr>\n",
       "      <th>Moons:</th>\n",
       "      <td>2 (Phobos &amp; Deimos)</td>\n",
       "    </tr>\n",
       "    <tr>\n",
       "      <th>Orbit Distance:</th>\n",
       "      <td>227,943,824 km (1.38 AU)</td>\n",
       "    </tr>\n",
       "    <tr>\n",
       "      <th>Orbit Period:</th>\n",
       "      <td>687 days (1.9 years)</td>\n",
       "    </tr>\n",
       "    <tr>\n",
       "      <th>Surface Temperature:</th>\n",
       "      <td>-87 to -5 °C</td>\n",
       "    </tr>\n",
       "    <tr>\n",
       "      <th>First Record:</th>\n",
       "      <td>2nd millennium BC</td>\n",
       "    </tr>\n",
       "    <tr>\n",
       "      <th>Recorded By:</th>\n",
       "      <td>Egyptian astronomers</td>\n",
       "    </tr>\n",
       "  </tbody>\n",
       "</table>\n",
       "</div>"
      ],
      "text/plain": [
       "                                              value\n",
       "Equatorial Diameter:                       6,792 km\n",
       "Polar Diameter:                            6,752 km\n",
       "Mass:                 6.39 × 10^23 kg (0.11 Earths)\n",
       "Moons:                          2 (Phobos & Deimos)\n",
       "Orbit Distance:            227,943,824 km (1.38 AU)\n",
       "Orbit Period:                  687 days (1.9 years)\n",
       "Surface Temperature:                   -87 to -5 °C\n",
       "First Record:                     2nd millennium BC\n",
       "Recorded By:                   Egyptian astronomers"
      ]
     },
     "execution_count": 17,
     "metadata": {},
     "output_type": "execute_result"
    }
   ],
   "source": [
    "# Mars facts page url\n",
    "facts_url = 'https://space-facts.com/mars/'\n",
    "browser.visit(facts_url)\n",
    "\n",
    "# Extract the main table on the page\n",
    "facts = pd.read_html(facts_url)[0].set_index(0)\n",
    "facts.index.name = None\n",
    "facts.columns = ['value']\n",
    "facts"
   ]
  },
  {
   "cell_type": "code",
   "execution_count": 18,
   "metadata": {},
   "outputs": [
    {
     "data": {
      "text/plain": [
       "'<table border=\"1\" class=\"dataframe\">\\n  <thead>\\n    <tr style=\"text-align: right;\">\\n      <th></th>\\n      <th>value</th>\\n    </tr>\\n  </thead>\\n  <tbody>\\n    <tr>\\n      <th>Equatorial Diameter:</th>\\n      <td>6,792 km</td>\\n    </tr>\\n    <tr>\\n      <th>Polar Diameter:</th>\\n      <td>6,752 km</td>\\n    </tr>\\n    <tr>\\n      <th>Mass:</th>\\n      <td>6.39 × 10^23 kg (0.11 Earths)</td>\\n    </tr>\\n    <tr>\\n      <th>Moons:</th>\\n      <td>2 (Phobos &amp; Deimos)</td>\\n    </tr>\\n    <tr>\\n      <th>Orbit Distance:</th>\\n      <td>227,943,824 km (1.38 AU)</td>\\n    </tr>\\n    <tr>\\n      <th>Orbit Period:</th>\\n      <td>687 days (1.9 years)</td>\\n    </tr>\\n    <tr>\\n      <th>Surface Temperature:</th>\\n      <td>-87 to -5 °C</td>\\n    </tr>\\n    <tr>\\n      <th>First Record:</th>\\n      <td>2nd millennium BC</td>\\n    </tr>\\n    <tr>\\n      <th>Recorded By:</th>\\n      <td>Egyptian astronomers</td>\\n    </tr>\\n  </tbody>\\n</table>'"
      ]
     },
     "execution_count": 18,
     "metadata": {},
     "output_type": "execute_result"
    }
   ],
   "source": [
    "# Convert the df to HTML\n",
    "facts_html = facts.to_html()\n",
    "facts_html"
   ]
  },
  {
   "cell_type": "code",
   "execution_count": 19,
   "metadata": {},
   "outputs": [],
   "source": [
    "# Quit browser\n",
    "browser.quit()"
   ]
  },
  {
   "cell_type": "markdown",
   "metadata": {},
   "source": [
    "### Transfer to script"
   ]
  },
  {
   "cell_type": "code",
   "execution_count": 20,
   "metadata": {},
   "outputs": [
    {
     "name": "stdout",
     "output_type": "stream",
     "text": [
      "True\n",
      "NASA's Mars Helicopter Reports In \n",
      "The technology demonstration has phoned home from where it is attached to the belly of NASA’s Perseverance rover. \n",
      "\n",
      "True\n",
      "Cerberus Hemisphere https://astropedia.astrogeology.usgs.gov/download/Mars/Viking/cerberus_enhanced.tif/full.jpg\n",
      "True\n",
      "Schiaparelli Hemisphere https://astropedia.astrogeology.usgs.gov/download/Mars/Viking/schiaparelli_enhanced.tif/full.jpg\n",
      "True\n",
      "Syrtis Major Hemisphere https://astropedia.astrogeology.usgs.gov/download/Mars/Viking/syrtis_major_enhanced.tif/full.jpg\n",
      "True\n",
      "Valles Marineris Hemisphere https://astropedia.astrogeology.usgs.gov/download/Mars/Viking/valles_marineris_enhanced.tif/full.jpg\n",
      "\n",
      "True\n",
      "https://d2pn8kiwq2w21t.cloudfront.net/images/jpegPIA23726.2e16d0ba.fill-400x400-c50.jpg\n",
      "\n"
     ]
    },
    {
     "data": {
      "text/html": [
       "<div>\n",
       "<style scoped>\n",
       "    .dataframe tbody tr th:only-of-type {\n",
       "        vertical-align: middle;\n",
       "    }\n",
       "\n",
       "    .dataframe tbody tr th {\n",
       "        vertical-align: top;\n",
       "    }\n",
       "\n",
       "    .dataframe thead th {\n",
       "        text-align: right;\n",
       "    }\n",
       "</style>\n",
       "<table border=\"1\" class=\"dataframe\">\n",
       "  <thead>\n",
       "    <tr style=\"text-align: right;\">\n",
       "      <th></th>\n",
       "      <th>value</th>\n",
       "    </tr>\n",
       "  </thead>\n",
       "  <tbody>\n",
       "    <tr>\n",
       "      <th>Equatorial Diameter:</th>\n",
       "      <td>6,792 km</td>\n",
       "    </tr>\n",
       "    <tr>\n",
       "      <th>Polar Diameter:</th>\n",
       "      <td>6,752 km</td>\n",
       "    </tr>\n",
       "    <tr>\n",
       "      <th>Mass:</th>\n",
       "      <td>6.39 × 10^23 kg (0.11 Earths)</td>\n",
       "    </tr>\n",
       "    <tr>\n",
       "      <th>Moons:</th>\n",
       "      <td>2 (Phobos &amp; Deimos)</td>\n",
       "    </tr>\n",
       "    <tr>\n",
       "      <th>Orbit Distance:</th>\n",
       "      <td>227,943,824 km (1.38 AU)</td>\n",
       "    </tr>\n",
       "    <tr>\n",
       "      <th>Orbit Period:</th>\n",
       "      <td>687 days (1.9 years)</td>\n",
       "    </tr>\n",
       "    <tr>\n",
       "      <th>Surface Temperature:</th>\n",
       "      <td>-87 to -5 °C</td>\n",
       "    </tr>\n",
       "    <tr>\n",
       "      <th>First Record:</th>\n",
       "      <td>2nd millennium BC</td>\n",
       "    </tr>\n",
       "    <tr>\n",
       "      <th>Recorded By:</th>\n",
       "      <td>Egyptian astronomers</td>\n",
       "    </tr>\n",
       "  </tbody>\n",
       "</table>\n",
       "</div>"
      ],
      "text/plain": [
       "                                              value\n",
       "Equatorial Diameter:                       6,792 km\n",
       "Polar Diameter:                            6,752 km\n",
       "Mass:                 6.39 × 10^23 kg (0.11 Earths)\n",
       "Moons:                          2 (Phobos & Deimos)\n",
       "Orbit Distance:            227,943,824 km (1.38 AU)\n",
       "Orbit Period:                  687 days (1.9 years)\n",
       "Surface Temperature:                   -87 to -5 °C\n",
       "First Record:                     2nd millennium BC\n",
       "Recorded By:                   Egyptian astronomers"
      ]
     },
     "metadata": {},
     "output_type": "display_data"
    },
    {
     "name": "stdout",
     "output_type": "stream",
     "text": [
      "\n",
      "<table border=\"1\" class=\"dataframe\">\n",
      "  <thead>\n",
      "    <tr style=\"text-align: right;\">\n",
      "      <th></th>\n",
      "      <th>value</th>\n",
      "    </tr>\n",
      "  </thead>\n",
      "  <tbody>\n",
      "    <tr>\n",
      "      <th>Equatorial Diameter:</th>\n",
      "      <td>6,792 km</td>\n",
      "    </tr>\n",
      "    <tr>\n",
      "      <th>Polar Diameter:</th>\n",
      "      <td>6,752 km</td>\n",
      "    </tr>\n",
      "    <tr>\n",
      "      <th>Mass:</th>\n",
      "      <td>6.39 × 10^23 kg (0.11 Earths)</td>\n",
      "    </tr>\n",
      "    <tr>\n",
      "      <th>Moons:</th>\n",
      "      <td>2 (Phobos &amp; Deimos)</td>\n",
      "    </tr>\n",
      "    <tr>\n",
      "      <th>Orbit Distance:</th>\n",
      "      <td>227,943,824 km (1.38 AU)</td>\n",
      "    </tr>\n",
      "    <tr>\n",
      "      <th>Orbit Period:</th>\n",
      "      <td>687 days (1.9 years)</td>\n",
      "    </tr>\n",
      "    <tr>\n",
      "      <th>Surface Temperature:</th>\n",
      "      <td>-87 to -5 °C</td>\n",
      "    </tr>\n",
      "    <tr>\n",
      "      <th>First Record:</th>\n",
      "      <td>2nd millennium BC</td>\n",
      "    </tr>\n",
      "    <tr>\n",
      "      <th>Recorded By:</th>\n",
      "      <td>Egyptian astronomers</td>\n",
      "    </tr>\n",
      "  </tbody>\n",
      "</table>\n"
     ]
    }
   ],
   "source": [
    "from splinter import Browser\n",
    "from bs4 import BeautifulSoup as Soup\n",
    "import pandas as pd\n",
    "from IPython.display import display\n",
    "\n",
    "\n",
    "# Start browser\n",
    "exe_path = '/usr/local/bin/chromedriver'\n",
    "exe_path = {'executable_path': '/usr/local/bin/chromedriver'}\n",
    "browser = Browser('chrome', **exe_path, headless=False)\n",
    "\n",
    "\n",
    "\"\"\" Scrape the most recent Mars article from NASA \"\"\"\n",
    "\n",
    "# Visit the Mars news page\n",
    "news_url = 'https://mars.nasa.gov/news/'\n",
    "browser.visit(news_url)\n",
    "\n",
    "# Parse the HTML\n",
    "print(browser.is_element_present_by_css('ul.item_list li.slide', wait_time=1))\n",
    "news_soup = Soup(browser.html, 'html.parser')\n",
    "\n",
    "# Get the first article's title and summary\n",
    "first_article = news_soup.select_one('ul.item_list li.slide')\n",
    "title = first_article.find('div', class_='content_title').get_text()\n",
    "summary = first_article.find('div', class_='article_teaser_body').get_text()\n",
    "print(title)\n",
    "print(summary)\n",
    "print()\n",
    "\n",
    "\n",
    "\"\"\" Scrape the Mars hemisphere images from USGS \"\"\"\n",
    "\n",
    "# Visit the Mars hemisphere search results page\n",
    "hemi_url = 'https://astrogeology.usgs.gov/search/results?q=hemisphere+enhanced&k1=target&v1=Mars'\n",
    "browser.visit(hemi_url)\n",
    "\n",
    "# Scrape the name and image URL for all 4 hemispheres\n",
    "for i in range(4):\n",
    "    # Visit hemisphere page\n",
    "    print(browser.is_element_present_by_css('div.description a.product-item', 1))\n",
    "    hemisphere = browser.links.find_by_partial_text('Hemisphere Enhanced')[i].click()\n",
    "\n",
    "    # Parse the HTML\n",
    "    browser.is_element_present_by_css('div.downloads a', 1)\n",
    "    hemi_soup = Soup(browser.html, 'html.parser') # parse HTML\n",
    "\n",
    "    # Get hemisphere name and image link\n",
    "    hemi_name = hemi_soup.select_one('section.metadata h2.title').text.strip()[:-9]\n",
    "    hemi_img_url = hemi_soup.select_one('div.downloads a').attrs['href']\n",
    "    print(hemi_name, hemi_img_url)\n",
    "    \n",
    "    # Back to search results\n",
    "    browser.back()\n",
    "    \n",
    "print()\n",
    "\n",
    "\n",
    "# \"\"\" Scrape the featured Mars image from NASA's JPL \"\"\"\n",
    "\n",
    "# # Visit the Mars images page\n",
    "# img_url = 'https://www.jpl.nasa.gov/images?search=&category=Mars'\n",
    "# browser.visit(img_url)\n",
    "\n",
    "# # Click the full image button on the featured image\n",
    "# print(browser.is_element_present_by_css('a#full_image', wait_time=1))\n",
    "# browser.links.find_by_partial_text('FULL IMAGE').click()\n",
    "\n",
    "# # Click the more info buttom in the slide show\n",
    "# print(browser.is_element_present_by_css('div.buttons a.button', wait_time=1))\n",
    "# browser.links.find_by_partial_text('more info').click()\n",
    "\n",
    "# # Get the main image url on the page\n",
    "# imgs_soup = Soup(browser.html, 'html.parser')\n",
    "# img_url = imgs_soup.select_one('figure.lede a img').get('src')\n",
    "# img_url = 'https://www.jpl.nasa.gov' + main_img_url\n",
    "# print(img_url)\n",
    "# print()\n",
    "\n",
    "\n",
    "\"\"\" Scrape the most recent Mars image from NASA's JPL \"\"\"\n",
    "\n",
    "# Visit the Mars images page\n",
    "img_url = 'https://www.jpl.nasa.gov/images?search=&category=Mars'\n",
    "browser.visit(img_url)\n",
    "\n",
    "# Click the most recent image in the search results\n",
    "print(browser.is_element_present_by_css('section a.group', wait_time=1))\n",
    "browser.links.find_by_partial_href('images/').click()\n",
    "\n",
    "# Get the image URL\n",
    "img_soup = Soup(browser.html, 'html.parser')\n",
    "first_img = img_soup.find('img', class_='BaseImage').attrs['src']\n",
    "print(first_img)\n",
    "print()\n",
    "\n",
    "\n",
    "\"\"\" Scrape Mars facts from space-facts \"\"\"\n",
    "\n",
    "# Mars facts page url\n",
    "facts_url = 'https://space-facts.com/mars/'\n",
    "\n",
    "# Extract the main table on the page\n",
    "facts = pd.read_html(facts_url)[0].set_index(0)\n",
    "facts.index.name = None\n",
    "facts.columns = ['value']\n",
    "display(facts)\n",
    "print()\n",
    "\n",
    "# Convert the df to HTML\n",
    "facts_html = facts.to_html()\n",
    "print(facts_html)\n",
    "\n",
    "\n",
    "# Quit browser\n",
    "browser.quit()"
   ]
  },
  {
   "cell_type": "code",
   "execution_count": null,
   "metadata": {},
   "outputs": [],
   "source": []
  }
 ],
 "metadata": {
  "kernelspec": {
   "display_name": "Python [conda env:minds] *",
   "language": "python",
   "name": "conda-env-minds-py"
  },
  "language_info": {
   "codemirror_mode": {
    "name": "ipython",
    "version": 3
   },
   "file_extension": ".py",
   "mimetype": "text/x-python",
   "name": "python",
   "nbconvert_exporter": "python",
   "pygments_lexer": "ipython3",
   "version": "3.7.9"
  }
 },
 "nbformat": 4,
 "nbformat_minor": 4
}
